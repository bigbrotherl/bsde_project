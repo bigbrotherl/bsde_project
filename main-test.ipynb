{
 "cells": [
  {
   "cell_type": "code",
   "execution_count": 2,
   "metadata": {},
   "outputs": [],
   "source": [
    "import json\n",
    "import logging\n",
    "import time\n",
    "import os\n",
    "import numpy as np\n",
    "#import tensorflow as tf\n",
    "import tensorflow.compat.v1 as tf\n",
    "import matplotlib.pyplot as plt\n",
    "from scipy.stats import norm\n",
    "from scipy import interpolate\n",
    "import tensorflow_probability as tfp\n",
    "from tensorflow.keras.layers import Dense"
   ]
  },
  {
   "cell_type": "code",
   "execution_count": 87,
   "metadata": {},
   "outputs": [],
   "source": [
    "def blackscholes_price(K, T, S, vol, r=0, q=0, callput='call'):\n",
    "    F = S*np.exp((r-q)*T)\n",
    "    v = np.sqrt(vol**2*T)\n",
    "    d1 = np.log(F/K)/v + 0.5*v\n",
    "    d2 = d1 - v\n",
    "    try:\n",
    "        opttype = {'call':1, 'put':-1}[callput.lower()]\n",
    "    except:\n",
    "        raise ValueError('The value of callput must be either \"call\" or \"put\".')\n",
    "    price = opttype*(F*norm.cdf(opttype*d1)-K*norm.cdf(opttype*d2))*np.exp(-r*T)\n",
    "    return price"
   ]
  },
  {
   "cell_type": "code",
   "execution_count": 66,
   "metadata": {},
   "outputs": [],
   "source": [
    "def get_sample(num):\n",
    "    return 80+40*np.random.uniform(0,1,[num,1])\n",
    "\n",
    "\n",
    "class equation(object):\n",
    "    \n",
    "    def __init__(self,dim, total_time, num_time_interval):\n",
    "        self.dim=dim\n",
    "        self.total_time=total_time\n",
    "        self.num_time_interval=num_time_interval\n",
    "        self.delta_t = (self.total_time + 0.0) / self.num_time_interval\n",
    "        self.sqrt_delta_t = np.sqrt(self.delta_t)\n",
    "        self.sigma=0.2\n",
    "        self.r=0\n",
    "        \n",
    "    def sample(self, num_sample):\n",
    "        x_init=80+40*np.random.uniform(0,1,[num_sample,self.dim])\n",
    "        dw_sample = np.random.randn(num_sample,\n",
    "                                     self.dim,\n",
    "                                     self.num_time_interval) * self.sqrt_delta_t\n",
    "        x_sample = np.zeros([num_sample, self.dim, self.num_time_interval + 1])\n",
    "        x_sample[:, :, 0] = np.ones([num_sample, self.dim]) * x_init\n",
    "        \n",
    "        factor = np.exp((self.r-(self.sigma**2)/2)*self.delta_t)\n",
    "        for i in range(self.num_time_interval):\n",
    "            x_sample[:, :, i + 1] = (factor * np.exp(self.sigma * dw_sample[:, :, i])) * x_sample[:, :, i]\n",
    "        return dw_sample, x_sample\n",
    "    \n",
    "    def f_tf(self, t, x, y, z):\n",
    "        return -self.r * y\n",
    "\n",
    "    def g_tf(self, t, x):\n",
    "        return tf.maximum(x - 100, 0)"
   ]
  },
  {
   "cell_type": "code",
   "execution_count": 67,
   "metadata": {},
   "outputs": [],
   "source": [
    "dim, total_time, num_time_interval=1,1,10\n",
    "eurOption=equation(dim, total_time, num_time_interval)"
   ]
  },
  {
   "cell_type": "code",
   "execution_count": 125,
   "metadata": {},
   "outputs": [],
   "source": [
    "TF_DTYPE = tf.float32\n",
    "\n",
    "class FeedForwardModeltest(object):\n",
    "\n",
    "    def __init__(self,sess,dim, total_time, num_time_interval):\n",
    "        self._sess = sess\n",
    "        self.f_network = []\n",
    "        self.num_iteration=30000\n",
    "        self.batch_size=256\n",
    "        self.logging_frequency=1000\n",
    "        \n",
    "        self.lr_boundaries=[2000]\n",
    "        self.lr_values=list(np.array([1e-3, 1e-3]))\n",
    "        \n",
    "        self.dim=dim\n",
    "        self.total_time=total_time\n",
    "        self.num_time_interval=num_time_interval\n",
    "        self.delta_t = (self.total_time + 0.0) / self.num_time_interval\n",
    "        \n",
    "        self.cdfCal=tfp.bijectors.NormalCDF()\n",
    "\n",
    "    def train(self):\n",
    "        start_time = time.time()\n",
    "        \n",
    "        \n",
    "        dw_valid,x_valid = eurOption.sample(256)\n",
    "        feed_dict_valid = {self._x: x_valid,self._dw:dw_valid,self.lambda1:0,self.lambda2:1, self._is_training: False}\n",
    "        self._sess.run(tf.global_variables_initializer())\n",
    "        \n",
    "        for step in range(self.num_iteration+1):\n",
    "            if step % self.logging_frequency == 0:\n",
    "                dw_train,x_train = eurOption.sample(256)\n",
    "                loss= self._sess.run(self._loss, feed_dict=feed_dict_valid)\n",
    "                elapsed_time = time.time()-start_time+self._t_build\n",
    "                #print(loss)\n",
    "                print(\"step: %5u,loss: %.4e,  elapsed time %3u\" % (step, loss, elapsed_time))\n",
    "            loss=self._sess.run([self._loss ,self._train_ops], feed_dict={self._x: x_train,self._dw:dw_train,self.lambda1:0,\n",
    "                                                                          self.lambda2:1,self._is_training: True})[0]\n",
    "\n",
    "        graphs=self._sess.run(self.graphs, feed_dict=feed_dict_valid)[0]\n",
    "        return graphs\n",
    "\n",
    "    def build(self):\n",
    "        start_time = time.time()\n",
    "        time_stamp = np.arange(0, self.num_time_interval) * self.delta_t\n",
    "        \n",
    "        \n",
    "        self.f_network.append(Dense(units = 11, input_shape = (1,), activation = 'relu'))\n",
    "        self.f_network.append(Dense(units = 11, input_shape = (11,), activation = 'relu'))\n",
    "        #self.f_network.append(Dense(units = 11, input_shape = (11,), activation = 'relu'))\n",
    "        self.f_network.append(Dense(units = 1, input_shape = (11,), activation = 'relu')) \n",
    "        \n",
    "        self._x = tf.placeholder(TF_DTYPE, [None,self.dim, self.num_time_interval+1], name='X')\n",
    "        self._dw = tf.placeholder(TF_DTYPE, [None, self.dim, self.num_time_interval], name='dW')\n",
    "        self.lambda1=tf.placeholder(TF_DTYPE, name='lambda1')\n",
    "        self.lambda2=tf.placeholder(TF_DTYPE, name='lambda2')\n",
    "        self._is_training = tf.placeholder(tf.bool)\n",
    "\n",
    "        x = np.linspace(80, 120, 82)\n",
    "        self.x = tf.constant(x, dtype=TF_DTYPE, shape=[1, 82, 1])\n",
    "\n",
    "        with tf.variable_scope('forward'):\n",
    "            y = self.f_network[0](self._x[:,:,0])\n",
    "            y = self.f_network[1](y)\n",
    "            y = self.f_network[2](y)\n",
    "            #y = self.f_network[3](y)\n",
    "            z = self.delta(self._x[:, :, 0],1-time_stamp[0])\n",
    "            \n",
    "            y_init=y+0.0\n",
    "            \n",
    "            for t in range(0, self.num_time_interval-1):\n",
    "                y=y+tf.reduce_sum(z *0.2*self._x[:, :, t] * self._dw[:, :, t], 1, keepdims=True)\n",
    "                z = self.delta(self._x[:, :, t],1-time_stamp[t])\n",
    "            \n",
    "            y=y+tf.reduce_sum(z * 0.2 *self._x[:, :, -2]* self._dw[:, :, -1], 1, keepdims=True)\n",
    "            loss1 = y_init - tf.maximum(self._x[:,:,0]- 100, 0)\n",
    "            loss2 = y - tf.maximum(self._x[:,:,-1]- 100, 0)\n",
    "            self._loss = self.lambda1 * tf.reduce_mean(tf.square(loss1)) + self.lambda2 * tf.reduce_mean(tf.square(loss2))\n",
    "            \n",
    "            self.graphs = []\n",
    "            l = self.x+0.0\n",
    "            l = self.f_network[0](l)\n",
    "            l = self.f_network[1](l)\n",
    "            l = self.f_network[2](l)\n",
    "            #l = self.f_network[3](l)\n",
    "            self.graphs=l\n",
    "\n",
    "        trainable_variables = tf.trainable_variables()\n",
    "        grads = tf.gradients(self._loss, trainable_variables)\n",
    "        \n",
    "        global_step = tf.get_variable('global_step', [],\n",
    "                                      initializer=tf.constant_initializer(0),\n",
    "                                      trainable=False, dtype=tf.int32)\n",
    "        learning_rate = tf.train.piecewise_constant(global_step,\n",
    "                                                    self.lr_boundaries,\n",
    "                                                    self.lr_values)\n",
    "        \n",
    "        #optimizer = tf.train.AdamOptimizer(learning_rate=1e-3)\n",
    "        optimizer = tf.train.AdamOptimizer(learning_rate=learning_rate)\n",
    "        apply_op = optimizer.apply_gradients(zip(grads, trainable_variables), global_step=global_step,name='train_step')\n",
    "        all_ops = [apply_op] #+ self._extra_train_ops\n",
    "        self._train_ops = tf.group(*all_ops)\n",
    "        self._t_build = time.time()-start_time\n",
    "        \n",
    "    def delta(self,s,t):\n",
    "        return self.cdfCal._forward((self.d1(s,t)))\n",
    "\n",
    "    def d1(self,s,t):\n",
    "        k=100\n",
    "        r=0\n",
    "        sigma=0.2\n",
    "        return (tf.math.log(s/k)+(r+sigma*sigma/2)*t)/(sigma*np.sqrt(t))"
   ]
  },
  {
   "cell_type": "code",
   "execution_count": 130,
   "metadata": {
    "scrolled": false
   },
   "outputs": [
    {
     "name": "stdout",
     "output_type": "stream",
     "text": [
      "step:     0,loss: 2.3694e+03,  elapsed time   0\n",
      "step:  1000,loss: 3.9734e+01,  elapsed time   2\n",
      "step:  2000,loss: 3.8944e+01,  elapsed time   4\n",
      "step:  3000,loss: 3.8164e+01,  elapsed time   5\n",
      "step:  4000,loss: 3.6264e+01,  elapsed time   7\n",
      "step:  5000,loss: 2.9879e+01,  elapsed time   8\n",
      "step:  6000,loss: 1.3810e+01,  elapsed time   9\n",
      "step:  7000,loss: 1.0094e+01,  elapsed time  11\n",
      "step:  8000,loss: 1.0256e+01,  elapsed time  13\n",
      "step:  9000,loss: 1.0007e+01,  elapsed time  14\n",
      "step: 10000,loss: 9.9093e+00,  elapsed time  16\n",
      "step: 11000,loss: 1.0257e+01,  elapsed time  17\n",
      "step: 12000,loss: 1.0248e+01,  elapsed time  19\n",
      "step: 13000,loss: 1.0280e+01,  elapsed time  20\n",
      "step: 14000,loss: 1.0255e+01,  elapsed time  22\n",
      "step: 15000,loss: 1.0245e+01,  elapsed time  23\n",
      "step: 16000,loss: 1.0286e+01,  elapsed time  25\n",
      "step: 17000,loss: 9.7622e+00,  elapsed time  26\n",
      "step: 18000,loss: 9.7880e+00,  elapsed time  28\n",
      "step: 19000,loss: 9.7294e+00,  elapsed time  30\n",
      "step: 20000,loss: 1.0118e+01,  elapsed time  31\n",
      "step: 21000,loss: 9.9709e+00,  elapsed time  33\n",
      "step: 22000,loss: 9.9467e+00,  elapsed time  34\n",
      "step: 23000,loss: 9.8200e+00,  elapsed time  36\n",
      "step: 24000,loss: 9.7072e+00,  elapsed time  37\n",
      "step: 25000,loss: 9.7902e+00,  elapsed time  39\n",
      "step: 26000,loss: 1.0057e+01,  elapsed time  41\n",
      "step: 27000,loss: 9.9458e+00,  elapsed time  42\n",
      "step: 28000,loss: 9.8989e+00,  elapsed time  44\n",
      "step: 29000,loss: 9.8399e+00,  elapsed time  45\n",
      "step: 30000,loss: 9.9383e+00,  elapsed time  47\n"
     ]
    },
    {
     "data": {
      "text/plain": [
       "[<matplotlib.lines.Line2D at 0x14555a86dc8>]"
      ]
     },
     "execution_count": 130,
     "metadata": {},
     "output_type": "execute_result"
    },
    {
     "data": {
      "image/png": "[encoded data removed]",
      "text/plain": [
       "<Figure size 432x288 with 1 Axes>"
      ]
     },
     "metadata": {
      "needs_background": "light"
     },
     "output_type": "display_data"
    }
   ],
   "source": [
    "dim, total_time, num_time_interval=1,1,10\n",
    "eurOption=equation(dim, total_time, num_time_interval)\n",
    "\n",
    "tf.reset_default_graph()\n",
    "with tf.Session() as sess:\n",
    "    model = FeedForwardModeltest(sess,dim, total_time, num_time_interval)\n",
    "    model.build()\n",
    "    graphs = model.train()\n",
    "g=graphs\n",
    "\n",
    "fig, ax = plt.subplots()\n",
    "ax.plot(np.linspace(80,120, 82),g.flatten())\n",
    "ax.plot(np.linspace(80,120, 82),np.maximum(np.linspace(80,120, 82)-100,0),'r')\n",
    "ax.plot(np.linspace(80,120, 82),blackscholes_price(100, 1, np.linspace(80,120, 82), 0.2, 0, 0, 'call'),'g')"
   ]
  },
  {
   "cell_type": "code",
   "execution_count": 131,
   "metadata": {},
   "outputs": [
    {
     "data": {
      "text/plain": [
       "[<matplotlib.lines.Line2D at 0x14554400c48>]"
      ]
     },
     "execution_count": 131,
     "metadata": {},
     "output_type": "execute_result"
    },
    {
     "data": {
      "image/png": "[encoded data removed]",
      "text/plain": [
       "<Figure size 432x288 with 1 Axes>"
      ]
     },
     "metadata": {
      "needs_background": "light"
     },
     "output_type": "display_data"
    }
   ],
   "source": [
    "fig, ax = plt.subplots()\n",
    "ax.plot(np.linspace(80,120, 82),g.flatten())\n",
    "ax.plot(np.linspace(80,120, 82),np.maximum(np.linspace(80,120, 82)-100,0),'r')\n",
    "ax.plot(np.linspace(80,120, 82),blackscholes_price(100, 1, np.linspace(80,120, 82), 0.2, 0, 0, 'call'),'g')"
   ]
  },
  {
   "cell_type": "code",
   "execution_count": null,
   "metadata": {},
   "outputs": [],
   "source": []
  }
 ],
 "metadata": {
  "kernelspec": {
   "display_name": "Python 3",
   "language": "python",
   "name": "python3"
  },
  "language_info": {
   "codemirror_mode": {
    "name": "ipython",
    "version": 3
   },
   "file_extension": ".py",
   "mimetype": "text/x-python",
   "name": "python",
   "nbconvert_exporter": "python",
   "pygments_lexer": "ipython3",
   "version": "3.7.5"
  }
 },
 "nbformat": 4,
 "nbformat_minor": 2
}
